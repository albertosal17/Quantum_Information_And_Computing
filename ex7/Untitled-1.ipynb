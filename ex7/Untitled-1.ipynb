{
 "cells": [
  {
   "cell_type": "code",
   "execution_count": 15,
   "metadata": {},
   "outputs": [
    {
     "data": {
      "text/plain": [
       "array([[1., 0.],\n",
       "       [0., 1.]])"
      ]
     },
     "execution_count": 15,
     "metadata": {},
     "output_type": "execute_result"
    }
   ],
   "source": [
    "import numpy as np\n",
    "import debugger_module as dbg\n",
    "id_2 = np.eye(2)\n",
    "id_2"
   ]
  },
  {
   "cell_type": "code",
   "execution_count": 16,
   "metadata": {},
   "outputs": [
    {
     "data": {
      "text/plain": [
       "array([[1., 0., 0., 0.],\n",
       "       [0., 1., 0., 0.],\n",
       "       [0., 0., 1., 0.],\n",
       "       [0., 0., 0., 1.]])"
      ]
     },
     "execution_count": 16,
     "metadata": {},
     "output_type": "execute_result"
    }
   ],
   "source": [
    "np.kron(np.eye(2),np.eye(2))"
   ]
  },
  {
   "cell_type": "code",
   "execution_count": 17,
   "metadata": {},
   "outputs": [
    {
     "data": {
      "text/plain": [
       "array([[1., 0., 0., 0., 0., 0., 0., 0.],\n",
       "       [0., 1., 0., 0., 0., 0., 0., 0.],\n",
       "       [0., 0., 1., 0., 0., 0., 0., 0.],\n",
       "       [0., 0., 0., 1., 0., 0., 0., 0.],\n",
       "       [0., 0., 0., 0., 1., 0., 0., 0.],\n",
       "       [0., 0., 0., 0., 0., 1., 0., 0.],\n",
       "       [0., 0., 0., 0., 0., 0., 1., 0.],\n",
       "       [0., 0., 0., 0., 0., 0., 0., 1.]])"
      ]
     },
     "execution_count": 17,
     "metadata": {},
     "output_type": "execute_result"
    }
   ],
   "source": [
    "np.kron(np.kron(np.eye(2),np.eye(2)), np.eye(2))\n",
    "\n"
   ]
  },
  {
   "cell_type": "code",
   "execution_count": 18,
   "metadata": {},
   "outputs": [],
   "source": [
    "def pauli_matrix(choice):\n",
    "\n",
    "    if choice=='x':\n",
    "        return np.array([[0,1],\n",
    "                         [1,0]])\n",
    "    elif choice=='y':\n",
    "        return np.array([[0,-1j],\n",
    "                         [1j,0]])\n",
    "    elif choice=='z':    \n",
    "        return np.array([[1,0],\n",
    "                         [0,-1]]) \n",
    "    else:\n",
    "        dbg.error(f\"Invalid input argument for 'choice': should be 'x', 'y', or 'z', while {choice} was passed\")"
   ]
  },
  {
   "cell_type": "code",
   "execution_count": 19,
   "metadata": {},
   "outputs": [],
   "source": [
    "def gen_hamiltonian_field(N, debug=False):\n",
    "\n",
    "    if N<2:\n",
    "        dbg.error(\"N should be at least 2 for a many body system\")\n",
    "\n",
    "    single_spin_contributes=[] \n",
    "    for kk in np.arange(1,N+1): #from 1 to N\n",
    "\n",
    "        matrices = []\n",
    "\n",
    "        dbg.checkpoint('---------------', debug=debug)\n",
    "        dbg.checkpoint(f'index: {kk}', debug=debug)\n",
    "\n",
    "        #Building up the partial tensor product, left side\n",
    "        if (kk-1) != 0:  # only for indices that are not the first one\n",
    "            mat_sx = np.eye(2**(kk-1)) \n",
    "            dbg.checkpoint(f'mat_sx\\n{mat_sx}', debug=debug)\n",
    "\n",
    "            matrices.append(mat_sx) # append to the list of matrice I will compute the tensor product at the end\n",
    "        \n",
    "        # The pauli matrix describing the interaction with the field for the spin at position kk\n",
    "        sigma_z = pauli_matrix('x')        \n",
    "        matrices.append(sigma_z) # append to the list of matrice I will compute the tensor product at the end\n",
    "\n",
    "        #Building up the partial tensor product, right side\n",
    "        if N-kk != 0: # Only for indices that are not the last one\n",
    "            mat_dx = np.eye(2**(N-kk))\n",
    "            dbg.checkpoint(f'mat_dx\\n{mat_dx}', debug=debug)\n",
    "\n",
    "            matrices.append(mat_dx) # append to the list of matrice I will compute the tensor product at the end\n",
    "        \n",
    "        # Taking the tensor product of the computed partial tensor products \n",
    "        product = np.kron(matrices[0], matrices[1]) #Oss. N>2 ensures that matrices contains at least two elements\n",
    "        if len(matrices)==3: #if there are more than 2 (i.e. 3) partial contributes to the whole tensor product\n",
    "            product = np.kron(product, matrices[2])    \n",
    "        elif len(matrices)>3:\n",
    "            dbg.error(\"Something unexpected happened: 'product' should have at most 3 elements: the left-most term, eventually a middle contribute, and a right-most term\")\n",
    "\n",
    "        single_spin_contributes.append(product) # append to the list of tensor products computed for each spin of the system\n",
    "\n",
    "    #summing all the single spin contributes (tensor products) to get the final term building up the hamiltonian\n",
    "    if not len(single_spin_contributes)==N:\n",
    "        dbg.error(\"Something unexpected happened: we should have a number of terms to sum equal to the number of spins considered\")\n",
    "    field_contribute_to_H=single_spin_contributes[0]\n",
    "    for jj in np.arange(1, N):\n",
    "        field_contribute_to_H += single_spin_contributes[jj]\n",
    "    \n",
    "    return field_contribute_to_H\n"
   ]
  },
  {
   "cell_type": "code",
   "execution_count": 20,
   "metadata": {},
   "outputs": [],
   "source": [
    "def gen_hamiltonian_pairs(N, debug=False):\n",
    "\n",
    "    if N<2:\n",
    "        dbg.error(\"N should be at least 2 for a many body system\")\n",
    "\n",
    "    single_pair_contributes=[] \n",
    "    for ii in np.arange(1,N): #from 1 to N-1\n",
    "\n",
    "        matricess = []\n",
    "\n",
    "        dbg.checkpoint('---------------', debug=debug)\n",
    "        dbg.checkpoint(f'index: {ii}', debug=debug)\n",
    "\n",
    "        #Building up the partial tensor product, left side\n",
    "        if (ii-1) != 0:  # only for indices that are not the first one\n",
    "            mat_sx = np.eye(2**(ii-1)) \n",
    "            dbg.checkpoint(f'mat_sx\\n{mat_sx}', debug=debug)\n",
    "\n",
    "            matricess.append(mat_sx) # append to the list of matrice I will compute the tensor product at the end\n",
    "        \n",
    "        # The pauli matrices describing the interaction with the field for the spin at position ii\n",
    "        sigma_x_i = pauli_matrix('z')    \n",
    "        sigma_x_i_plus_one = pauli_matrix('z')    \n",
    "        # append to the list of matrice I will compute the tensor product at the end\n",
    "        matricess.append(sigma_x_i)\n",
    "        matricess.append(sigma_x_i_plus_one)   \n",
    "        \n",
    "\n",
    "        #Building up the partial tensor product, right side\n",
    "        if  N-(ii+1) != 0: # Only for indices that are not the previous to last one (NOTE: We are ranging from 1 to N-1)\n",
    "            mat_dx = np.eye( 2**( N-(ii+1) ) )\n",
    "            dbg.checkpoint(f'mat_dx\\n{mat_dx}', debug=debug)\n",
    "\n",
    "            matricess.append(mat_dx) # append to the list of matrice I will compute the tensor product at the end\n",
    "        \n",
    "        # Taking the tensor product of the computed partial tensor products \n",
    "        productt = np.kron(matricess[0], matricess[1]) #Oss. N>2 ensures that matrices contains at least three elements\n",
    "        productt = np.kron(productt, matricess[2]) \n",
    "        if len(matricess)==4: #if there are more than 2 (i.e. 3) partial contributes to the whole tensor product\n",
    "            productt = np.kron(productt, matricess[3])    \n",
    "        elif len(matricess)>4:\n",
    "            dbg.error(\"Something unexpected happened: 'product' should have at most 4 elements: the left-most term, the two middle contributes, and a right-most term\")\n",
    "\n",
    "        single_pair_contributes.append(productt) # append to the list of tensor products computed for each spin of the system\n",
    "\n",
    "    if not len(single_pair_contributes) == (N-1):\n",
    "        dbg.error(\"Something unexpected happened: we should have a number of terms to sum equal to the number of spins considered\")\n",
    "    #summing all the single spin contributes (tensor products) to get the final term building up the hamiltonian    \n",
    "    pairs_contribute_to_H=single_pair_contributes[0]\n",
    "    for hh in np.arange(1, N-1):\n",
    "        pairs_contribute_to_H += single_pair_contributes[hh]\n",
    "    \n",
    "    return pairs_contribute_to_H\n"
   ]
  },
  {
   "cell_type": "code",
   "execution_count": 32,
   "metadata": {},
   "outputs": [
    {
     "name": "stdout",
     "output_type": "stream",
     "text": [
      "\n",
      "(64, 64)\n",
      "[[5. 1. 1. ... 0. 0. 0.]\n",
      " [1. 3. 0. ... 0. 0. 0.]\n",
      " [1. 0. 1. ... 0. 0. 0.]\n",
      " ...\n",
      " [0. 0. 0. ... 1. 0. 1.]\n",
      " [0. 0. 0. ... 0. 3. 1.]\n",
      " [0. 0. 0. ... 1. 1. 5.]]\n"
     ]
    }
   ],
   "source": [
    "N=6\n",
    "debug=False\n",
    "\n",
    "H1 = gen_hamiltonian_field(N, debug)\n",
    "H2 = gen_hamiltonian_pairs(N, debug)\n",
    "H = H1+H2\n",
    "\n",
    "np.set_printoptions(\n",
    "    precision=2,      # Number of decimal places\n",
    "    suppress=True,     # Avoid scientific notation for small numbers\n",
    "    linewidth=120      # Total width of the output line\n",
    ")\n",
    "print()\n",
    "print(H.shape)\n",
    "print(H)\n"
   ]
  },
  {
   "cell_type": "code",
   "execution_count": 30,
   "metadata": {},
   "outputs": [
    {
     "name": "stdout",
     "output_type": "stream",
     "text": [
      "\u001b[1;32m✓\n"
     ]
    }
   ],
   "source": [
    "yes =  \"\\033[1;32m\" + u\"\\N{check mark}\" #+ \"\\033[1;30m\"\n",
    "no =  \"\\033[1;31m\" + u\"\\N{ballot x}\" #+ \"\\033[1;30m\"\n",
    "\n",
    "my_matrix = -H\n",
    "correct_matrix = np.array([\n",
    "    [-3,  -1,  -1,   0,  -1,   0,   0,   0,  -1,   0,   0,   0,   0,   0 ,  0,   0],\n",
    "    [ -1,  -1,   0,  -1,   0,  -1,   0,   0,   0,  -1,   0,   0,   0,   0,   0 ,  0],\n",
    "    [-1,   0,   1,  -1,   0,   0,  -1,   0,   0,   0,  -1,   0,   0,  0,  0,  0],\n",
    "    [0,  -1,  -1,  -1,   0,   0,   0,  -1,   0,   0,   0,  -1,   0,   0,   0,   0],\n",
    "    [-1,   0,   0,   0,   1,  -1,  -1,   0,   0,   0,   0,   0,  -1,  0,  0,  0],\n",
    "    [0,  -1,   0,   0,  -1,  3,   0,  -1,   0,   0 ,  0,   0,   0,  -1,   0,   0],\n",
    "    [0,   0,  -1,   0,  -1,   0,   1,  -1,   0,   0,   0,   0,   0,   0,  -1,   0],\n",
    "    [0,   0,   0,  -1,   0,  -1,  -1,  -1,   0,   0,   0,   0,   0,   0,   0,  -1],\n",
    "    [-1,   0,   0,   0,   0,   0,   0,   0,  -1 , -1,  -1,  0, -1,  0,   0,  0],\n",
    "    [0,  -1,   0,   0,   0,   0,   0,   0 , -1,   1,   0,  -1,   0,  -1,   0,   0],\n",
    "    [0,   0,  -1,   0,   0,   0,   0,   0 , -1,   0,   3,  -1,   0,   0,  -1,   0],\n",
    "    [0,   0,   0,  -1,   0,   0,   0,   0,   0,  -1,  -1,   1,   0,   0,   0,  -1],\n",
    "    [0,   0,   0,   0,  -1,   0 ,  0,   0,  -1,   0,   0,   0,  -1,  -1,  -1,   0],\n",
    "    [0,   0,   0,   0,   0,  -1,   0,   0,   0,  -1,   0,   0,  -1,   1,   0,  -1],\n",
    "    [0,   0,   0,   0,   0,   0,  -1,   0,   0,   0,  -1,   0,  -1,   0,  -1,  -1],\n",
    "    [0,   0,   0,   0,   0,   0,   0,  -1,   0,   0,   0,  -1,   0,  -1,  -1,  -3]  \n",
    "])\n",
    "\n",
    "if np.array_equal(my_matrix, correct_matrix):\n",
    "    print(yes)\n",
    "else:\n",
    "    print(no)\n",
    "    # Find where matrices differ\n",
    "    differences = np.argwhere(my_matrix != correct_matrix)\n",
    "\n",
    "    # Display the differing values\n",
    "    for index in differences:\n",
    "        i, j = index\n",
    "        print(f\"At index ({i}, {j}): my={my_matrix[i, j]}, correct={correct_matrix[i, j]}\")\n"
   ]
  },
  {
   "cell_type": "code",
   "execution_count": 8,
   "metadata": {},
   "outputs": [
    {
     "data": {
      "text/plain": [
       "array([[ 3.,  1.,  1.,  0.,  1.,  0.,  0.,  0.,  1.,  0.,  0.,  0.,  0.,  0.,  0.,  0.],\n",
       "       [ 1.,  1.,  0.,  1.,  0.,  1.,  0.,  0.,  0.,  1.,  0.,  0.,  0.,  0.,  0.,  0.],\n",
       "       [ 1.,  0., -1.,  1.,  0.,  0.,  1.,  0.,  0.,  0.,  1.,  0.,  0.,  0.,  0.,  0.],\n",
       "       [ 0.,  1.,  1.,  1.,  0.,  0.,  0.,  1.,  0.,  0.,  0.,  1.,  0.,  0.,  0.,  0.],\n",
       "       [ 1.,  0.,  0.,  0., -1.,  1.,  1.,  0.,  0.,  0.,  0.,  0.,  1.,  0.,  0.,  0.],\n",
       "       [ 0.,  1.,  0.,  0.,  1., -3.,  0.,  1.,  0.,  0.,  0.,  0.,  0.,  1.,  0.,  0.],\n",
       "       [ 0.,  0.,  1.,  0.,  1.,  0., -1.,  1.,  0.,  0.,  0.,  0.,  0.,  0.,  1.,  0.],\n",
       "       [ 0.,  0.,  0.,  1.,  0.,  1.,  1.,  1.,  0.,  0.,  0.,  0.,  0.,  0.,  0.,  1.],\n",
       "       [ 1.,  0.,  0.,  0.,  0.,  0.,  0.,  0.,  1.,  1.,  1.,  0.,  1.,  0.,  0.,  0.],\n",
       "       [ 0.,  1.,  0.,  0.,  0.,  0.,  0.,  0.,  1., -1.,  0.,  1.,  0.,  1.,  0.,  0.],\n",
       "       [ 0.,  0.,  1.,  0.,  0.,  0.,  0.,  0.,  1.,  0., -3.,  1.,  0.,  0.,  1.,  0.],\n",
       "       [ 0.,  0.,  0.,  1.,  0.,  0.,  0.,  0.,  0.,  1.,  1., -1.,  0.,  0.,  0.,  1.],\n",
       "       [ 0.,  0.,  0.,  0.,  1.,  0.,  0.,  0.,  1.,  0.,  0.,  0.,  1.,  1.,  1.,  0.],\n",
       "       [ 0.,  0.,  0.,  0.,  0.,  1.,  0.,  0.,  0.,  1.,  0.,  0.,  1., -1.,  0.,  1.],\n",
       "       [ 0.,  0.,  0.,  0.,  0.,  0.,  1.,  0.,  0.,  0.,  1.,  0.,  1.,  0.,  1.,  1.],\n",
       "       [ 0.,  0.,  0.,  0.,  0.,  0.,  0.,  1.,  0.,  0.,  0.,  1.,  0.,  1.,  1.,  3.]])"
      ]
     },
     "execution_count": 8,
     "metadata": {},
     "output_type": "execute_result"
    }
   ],
   "source": [
    "\n",
    "field_contribute_to_H+spins_contribute_to_H"
   ]
  },
  {
   "cell_type": "code",
   "execution_count": null,
   "metadata": {},
   "outputs": [],
   "source": []
  }
 ],
 "metadata": {
  "kernelspec": {
   "display_name": "Python 3",
   "language": "python",
   "name": "python3"
  },
  "language_info": {
   "codemirror_mode": {
    "name": "ipython",
    "version": 3
   },
   "file_extension": ".py",
   "mimetype": "text/x-python",
   "name": "python",
   "nbconvert_exporter": "python",
   "pygments_lexer": "ipython3",
   "version": "3.10.12"
  }
 },
 "nbformat": 4,
 "nbformat_minor": 2
}
